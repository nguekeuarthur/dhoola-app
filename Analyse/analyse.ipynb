{
 "cells": [
  {
   "cell_type": "code",
   "execution_count": 4,
   "metadata": {},
   "outputs": [
    {
     "data": {
      "text/plain": [
       "1644"
      ]
     },
     "execution_count": 4,
     "metadata": {},
     "output_type": "execute_result"
    }
   ],
   "source": [
    "import pandas as pd\n",
    "df_appOpenTime = pd.read_csv('appOpenedTime.csv')\n",
    "len(df_appOpenTime[df_appOpenTime['isOpend']==True]) "
   ]
  },
  {
   "cell_type": "code",
   "execution_count": 5,
   "metadata": {},
   "outputs": [
    {
     "data": {
      "text/plain": [
       "3002"
      ]
     },
     "execution_count": 5,
     "metadata": {},
     "output_type": "execute_result"
    }
   ],
   "source": [
    "len(df_appOpenTime[df_appOpenTime['isOpend']==False]) "
   ]
  },
  {
   "cell_type": "code",
   "execution_count": 6,
   "metadata": {},
   "outputs": [
    {
     "data": {
      "text/html": [
       "<div>\n",
       "<style scoped>\n",
       "    .dataframe tbody tr th:only-of-type {\n",
       "        vertical-align: middle;\n",
       "    }\n",
       "\n",
       "    .dataframe tbody tr th {\n",
       "        vertical-align: top;\n",
       "    }\n",
       "\n",
       "    .dataframe thead th {\n",
       "        text-align: right;\n",
       "    }\n",
       "</style>\n",
       "<table border=\"1\" class=\"dataframe\">\n",
       "  <thead>\n",
       "    <tr style=\"text-align: right;\">\n",
       "      <th></th>\n",
       "      <th>isOpend</th>\n",
       "      <th>time</th>\n",
       "      <th>uid</th>\n",
       "    </tr>\n",
       "  </thead>\n",
       "  <tbody>\n",
       "    <tr>\n",
       "      <th>0</th>\n",
       "      <td>True</td>\n",
       "      <td>1716549089231</td>\n",
       "      <td>03HAO5vU6BOlF3NSeYVTzyRaJ6W2</td>\n",
       "    </tr>\n",
       "    <tr>\n",
       "      <th>1</th>\n",
       "      <td>False</td>\n",
       "      <td>1716074949410</td>\n",
       "      <td>uXnnBb0D5yZiOrroCy3JCZ6FxPR2</td>\n",
       "    </tr>\n",
       "    <tr>\n",
       "      <th>2</th>\n",
       "      <td>False</td>\n",
       "      <td>1716029045487</td>\n",
       "      <td>NaN</td>\n",
       "    </tr>\n",
       "    <tr>\n",
       "      <th>3</th>\n",
       "      <td>False</td>\n",
       "      <td>1717010824358</td>\n",
       "      <td>qMHVQGPKvNMdZLX8YnPH29ZYoyG3</td>\n",
       "    </tr>\n",
       "    <tr>\n",
       "      <th>4</th>\n",
       "      <td>False</td>\n",
       "      <td>1715961634982</td>\n",
       "      <td>NaN</td>\n",
       "    </tr>\n",
       "    <tr>\n",
       "      <th>...</th>\n",
       "      <td>...</td>\n",
       "      <td>...</td>\n",
       "      <td>...</td>\n",
       "    </tr>\n",
       "    <tr>\n",
       "      <th>4714</th>\n",
       "      <td>False</td>\n",
       "      <td>1716333277103</td>\n",
       "      <td>uXnnBb0D5yZiOrroCy3JCZ6FxPR2</td>\n",
       "    </tr>\n",
       "    <tr>\n",
       "      <th>4715</th>\n",
       "      <td>False</td>\n",
       "      <td>1715703922871</td>\n",
       "      <td>NaN</td>\n",
       "    </tr>\n",
       "    <tr>\n",
       "      <th>4716</th>\n",
       "      <td>False</td>\n",
       "      <td>1715681057243</td>\n",
       "      <td>IwXqh3xp8hThQlDQH6wLJo39eS02</td>\n",
       "    </tr>\n",
       "    <tr>\n",
       "      <th>4717</th>\n",
       "      <td>True</td>\n",
       "      <td>1715796567854</td>\n",
       "      <td>z5Vl3tUSRgalHfSho6JFNkpjxpn1</td>\n",
       "    </tr>\n",
       "    <tr>\n",
       "      <th>4718</th>\n",
       "      <td>False</td>\n",
       "      <td>1717530545725</td>\n",
       "      <td>sJHi3tHqLLOnTwSlvhvLGIKeimD2</td>\n",
       "    </tr>\n",
       "  </tbody>\n",
       "</table>\n",
       "<p>4719 rows × 3 columns</p>\n",
       "</div>"
      ],
      "text/plain": [
       "     isOpend           time                           uid\n",
       "0       True  1716549089231  03HAO5vU6BOlF3NSeYVTzyRaJ6W2\n",
       "1      False  1716074949410  uXnnBb0D5yZiOrroCy3JCZ6FxPR2\n",
       "2      False  1716029045487                           NaN\n",
       "3      False  1717010824358  qMHVQGPKvNMdZLX8YnPH29ZYoyG3\n",
       "4      False  1715961634982                           NaN\n",
       "...      ...            ...                           ...\n",
       "4714   False  1716333277103  uXnnBb0D5yZiOrroCy3JCZ6FxPR2\n",
       "4715   False  1715703922871                           NaN\n",
       "4716   False  1715681057243  IwXqh3xp8hThQlDQH6wLJo39eS02\n",
       "4717    True  1715796567854  z5Vl3tUSRgalHfSho6JFNkpjxpn1\n",
       "4718   False  1717530545725  sJHi3tHqLLOnTwSlvhvLGIKeimD2\n",
       "\n",
       "[4719 rows x 3 columns]"
      ]
     },
     "execution_count": 6,
     "metadata": {},
     "output_type": "execute_result"
    }
   ],
   "source": [
    "df_appOpenTime"
   ]
  },
  {
   "cell_type": "code",
   "execution_count": 7,
   "metadata": {},
   "outputs": [],
   "source": [
    "import datetime\n",
    "df_appOpenTime['time']=pd.to_datetime(df_appOpenTime['time'],unit='ms')"
   ]
  },
  {
   "cell_type": "code",
   "execution_count": 10,
   "metadata": {},
   "outputs": [],
   "source": [
    "df=df_appOpenTime.sort_values(by='time', ascending=False)\n",
    "df.to_csv('test.csv')"
   ]
  },
  {
   "cell_type": "code",
   "execution_count": 12,
   "metadata": {},
   "outputs": [
    {
     "name": "stdout",
     "output_type": "stream",
     "text": [
      "                              uid        date  session_id  \\\n",
      "0    03HAO5vU6BOlF3NSeYVTzyRaJ6W2  2024-05-18         1.0   \n",
      "1    03HAO5vU6BOlF3NSeYVTzyRaJ6W2  2024-05-24         2.0   \n",
      "2    11gwRhxyjDXP8bToBSnEbAXzfR62  2024-06-10         1.0   \n",
      "3    1kftiDxaQlT4N0NFXV4Ff70KgBF3  2024-06-04         1.0   \n",
      "4    2Dnk3xqJF6NF4ZJWcA7f2zrlnO13  2024-06-02         1.0   \n",
      "..                            ...         ...         ...   \n",
      "394  z5Vl3tUSRgalHfSho6JFNkpjxpn1  2024-06-07        74.0   \n",
      "395  z5Vl3tUSRgalHfSho6JFNkpjxpn1  2024-06-08        75.0   \n",
      "396  z5Vl3tUSRgalHfSho6JFNkpjxpn1  2024-06-09        76.0   \n",
      "397  zAUbebwMo3TY8MqBKBldpDeyIUb2  2024-05-19         1.0   \n",
      "398  zAUbebwMo3TY8MqBKBldpDeyIUb2  2024-05-28         2.0   \n",
      "\n",
      "     session_duration_in_seconds  \n",
      "0                        391.767  \n",
      "1                     511802.174  \n",
      "2                        847.630  \n",
      "3                        483.193  \n",
      "4                        669.294  \n",
      "..                           ...  \n",
      "394                    10730.046  \n",
      "395                    48789.483  \n",
      "396                    97114.809  \n",
      "397                      493.652  \n",
      "398                   758856.185  \n",
      "\n",
      "[399 rows x 4 columns]\n"
     ]
    }
   ],
   "source": [
    "import pandas as pd\n",
    "from datetime import datetime\n",
    "\n",
    "# Charger les données à partir du fichier CSV\n",
    "df = pd.read_csv('appOpenedTime.csv')\n",
    "\n",
    "# Convertir le temps de millisecondes en datetime\n",
    "df['time'] = pd.to_datetime(df['time'], unit='ms')\n",
    "\n",
    "# Trier les données par utilisateur et par temps\n",
    "df.sort_values(by=['uid', 'time'], inplace=True)\n",
    "\n",
    "# Calculer la différence de temps entre les événements consécutifs\n",
    "df['time_diff'] = df.groupby('uid')['time'].diff().dt.total_seconds()\n",
    "\n",
    "# Considérer que si la différence de temps est supérieure à un certain seuil (par exemple, 30 minutes), il s'agit d'une nouvelle session\n",
    "session_threshold = 30 * 60  # 30 minutes en secondes\n",
    "df['new_session'] = (df['time_diff'] > session_threshold) | df['time_diff'].isna()\n",
    "\n",
    "# Assigner un identifiant unique pour chaque session\n",
    "df['session_id'] = df.groupby('uid')['new_session'].cumsum()\n",
    "\n",
    "# Calculer la durée de chaque session\n",
    "session_duration = df.groupby(['uid', 'session_id'])['time_diff'].sum().reset_index()\n",
    "\n",
    "# Ajouter la colonne 'date' pour avoir la date spécifique des sessions\n",
    "df['date'] = df['time'].dt.date\n",
    "\n",
    "# Calculer la durée totale des sessions par utilisateur par jour\n",
    "session_duration_per_day = df.groupby(['uid', 'date', 'session_id'])['time_diff'].sum().reset_index()\n",
    "\n",
    "# Renommer les colonnes pour plus de clarté\n",
    "session_duration_per_day.rename(columns={'time_diff': 'session_duration_in_seconds'}, inplace=True)\n",
    "\n",
    "# Afficher les résultats\n",
    "print(session_duration_per_day)\n",
    "\n",
    "# Optionnel : Sauvegarder les résultats dans un nouveau fichier CSV\n",
    "session_duration_per_day.to_csv('session_duration_per_user_per_day.csv', index=False)\n"
   ]
  },
  {
   "cell_type": "code",
   "execution_count": 13,
   "metadata": {},
   "outputs": [
    {
     "name": "stdout",
     "output_type": "stream",
     "text": [
      "                              uid        date  \\\n",
      "0    03HAO5vU6BOlF3NSeYVTzyRaJ6W2  2024-05-18   \n",
      "1    03HAO5vU6BOlF3NSeYVTzyRaJ6W2  2024-05-24   \n",
      "2    11gwRhxyjDXP8bToBSnEbAXzfR62  2024-06-10   \n",
      "3    1kftiDxaQlT4N0NFXV4Ff70KgBF3  2024-06-04   \n",
      "4    2Dnk3xqJF6NF4ZJWcA7f2zrlnO13  2024-06-02   \n",
      "..                            ...         ...   \n",
      "238  z5Vl3tUSRgalHfSho6JFNkpjxpn1  2024-06-07   \n",
      "239  z5Vl3tUSRgalHfSho6JFNkpjxpn1  2024-06-08   \n",
      "240  z5Vl3tUSRgalHfSho6JFNkpjxpn1  2024-06-09   \n",
      "241  zAUbebwMo3TY8MqBKBldpDeyIUb2  2024-05-19   \n",
      "242  zAUbebwMo3TY8MqBKBldpDeyIUb2  2024-05-28   \n",
      "\n",
      "     total_session_duration_in_seconds  \n",
      "0                              391.767  \n",
      "1                           511802.174  \n",
      "2                              847.630  \n",
      "3                              483.193  \n",
      "4                              669.294  \n",
      "..                                 ...  \n",
      "238                          89108.583  \n",
      "239                          48789.483  \n",
      "240                          97114.809  \n",
      "241                            493.652  \n",
      "242                         758856.185  \n",
      "\n",
      "[243 rows x 3 columns]\n"
     ]
    }
   ],
   "source": [
    "import pandas as pd\n",
    "from datetime import datetime\n",
    "\n",
    "# Charger les données à partir du fichier CSV\n",
    "df = pd.read_csv('appOpenedTime.csv')\n",
    "\n",
    "# Convertir le temps de millisecondes en datetime\n",
    "df['time'] = pd.to_datetime(df['time'], unit='ms')\n",
    "\n",
    "# Trier les données par utilisateur et par temps\n",
    "df.sort_values(by=['uid', 'time'], inplace=True)\n",
    "\n",
    "# Calculer la différence de temps entre les événements consécutifs\n",
    "df['time_diff'] = df.groupby('uid')['time'].diff().dt.total_seconds()\n",
    "\n",
    "# Considérer que si la différence de temps est supérieure à un certain seuil (par exemple, 30 minutes), il s'agit d'une nouvelle session\n",
    "session_threshold = 30 * 60  # 30 minutes en secondes\n",
    "df['new_session'] = (df['time_diff'] > session_threshold) | df['time_diff'].isna()\n",
    "\n",
    "# Assigner un identifiant unique pour chaque session\n",
    "df['session_id'] = df.groupby('uid')['new_session'].cumsum()\n",
    "\n",
    "# Ajouter la colonne 'date' pour avoir la date spécifique des sessions\n",
    "df['date'] = df['time'].dt.date\n",
    "\n",
    "# Calculer la durée totale des sessions par utilisateur par jour\n",
    "session_duration_per_day = df.groupby(['uid', 'date'])['time_diff'].sum().reset_index()\n",
    "\n",
    "# Renommer les colonnes pour plus de clarté\n",
    "session_duration_per_day.rename(columns={'time_diff': 'total_session_duration_in_seconds'}, inplace=True)\n",
    "\n",
    "# Afficher les résultats\n",
    "print(session_duration_per_day)\n",
    "\n",
    "# Optionnel : Sauvegarder les résultats dans un nouveau fichier CSV\n",
    "session_duration_per_day.to_csv('total_session_duration_per_user_per_day.csv', index=False)\n"
   ]
  },
  {
   "cell_type": "code",
   "execution_count": 14,
   "metadata": {},
   "outputs": [
    {
     "name": "stdout",
     "output_type": "stream",
     "text": [
      "                              uid        date  total_time_in_seconds\n",
      "0    03HAO5vU6BOlF3NSeYVTzyRaJ6W2  2024-05-18                391.767\n",
      "1    03HAO5vU6BOlF3NSeYVTzyRaJ6W2  2024-05-24             511802.174\n",
      "2    11gwRhxyjDXP8bToBSnEbAXzfR62  2024-06-10                847.630\n",
      "3    1kftiDxaQlT4N0NFXV4Ff70KgBF3  2024-06-04                483.193\n",
      "4    2Dnk3xqJF6NF4ZJWcA7f2zrlnO13  2024-06-02                669.294\n",
      "..                            ...         ...                    ...\n",
      "238  z5Vl3tUSRgalHfSho6JFNkpjxpn1  2024-06-07              89108.583\n",
      "239  z5Vl3tUSRgalHfSho6JFNkpjxpn1  2024-06-08              48789.483\n",
      "240  z5Vl3tUSRgalHfSho6JFNkpjxpn1  2024-06-09              97114.809\n",
      "241  zAUbebwMo3TY8MqBKBldpDeyIUb2  2024-05-19                493.652\n",
      "242  zAUbebwMo3TY8MqBKBldpDeyIUb2  2024-05-28             758856.185\n",
      "\n",
      "[243 rows x 3 columns]\n"
     ]
    }
   ],
   "source": [
    "c"
   ]
  },
  {
   "cell_type": "code",
   "execution_count": 15,
   "metadata": {},
   "outputs": [
    {
     "name": "stdout",
     "output_type": "stream",
     "text": [
      "                              uid        date  session_id  \\\n",
      "0    03HAO5vU6BOlF3NSeYVTzyRaJ6W2  2024-05-18         1.0   \n",
      "1    03HAO5vU6BOlF3NSeYVTzyRaJ6W2  2024-05-24         2.0   \n",
      "2    11gwRhxyjDXP8bToBSnEbAXzfR62  2024-06-10         1.0   \n",
      "3    1kftiDxaQlT4N0NFXV4Ff70KgBF3  2024-06-04         1.0   \n",
      "4    2Dnk3xqJF6NF4ZJWcA7f2zrlnO13  2024-06-02         1.0   \n",
      "..                            ...         ...         ...   \n",
      "394  z5Vl3tUSRgalHfSho6JFNkpjxpn1  2024-06-07        74.0   \n",
      "395  z5Vl3tUSRgalHfSho6JFNkpjxpn1  2024-06-08        75.0   \n",
      "396  z5Vl3tUSRgalHfSho6JFNkpjxpn1  2024-06-09        76.0   \n",
      "397  zAUbebwMo3TY8MqBKBldpDeyIUb2  2024-05-19         1.0   \n",
      "398  zAUbebwMo3TY8MqBKBldpDeyIUb2  2024-05-28         2.0   \n",
      "\n",
      "              session_start             session_end  \\\n",
      "0   2024-05-18 12:56:02.777 2024-05-18 13:02:34.544   \n",
      "1   2024-05-24 11:11:29.231 2024-05-24 11:12:36.718   \n",
      "2   2024-06-10 12:34:04.644 2024-06-10 12:48:12.274   \n",
      "3   2024-06-04 06:21:15.012 2024-06-04 06:29:18.205   \n",
      "4   2024-06-02 18:10:36.048 2024-06-02 18:21:45.342   \n",
      "..                      ...                     ...   \n",
      "394 2024-06-07 18:41:24.171 2024-06-07 18:42:13.456   \n",
      "395 2024-06-08 08:14:59.834 2024-06-08 08:15:22.939   \n",
      "396 2024-06-09 10:46:18.549 2024-06-09 11:13:57.748   \n",
      "397 2024-05-19 08:14:49.609 2024-05-19 08:23:03.261   \n",
      "398 2024-05-28 03:10:30.157 2024-05-28 03:10:39.446   \n",
      "\n",
      "     session_duration_in_seconds  \n",
      "0                        391.767  \n",
      "1                         67.487  \n",
      "2                        847.630  \n",
      "3                        483.193  \n",
      "4                        669.294  \n",
      "..                           ...  \n",
      "394                       49.285  \n",
      "395                       23.105  \n",
      "396                     1659.199  \n",
      "397                      493.652  \n",
      "398                        9.289  \n",
      "\n",
      "[399 rows x 6 columns]\n"
     ]
    }
   ],
   "source": [
    "import pandas as pd\n",
    "from datetime import datetime\n",
    "\n",
    "# Charger les données à partir du fichier CSV\n",
    "df = pd.read_csv('appOpenedTime.csv')\n",
    "\n",
    "# Convertir le temps de millisecondes en datetime\n",
    "df['time'] = pd.to_datetime(df['time'], unit='ms')\n",
    "\n",
    "# Trier les données par utilisateur et par temps\n",
    "df.sort_values(by=['uid', 'time'], inplace=True)\n",
    "\n",
    "# Calculer la différence de temps entre les événements consécutifs\n",
    "df['time_diff'] = df.groupby('uid')['time'].diff().dt.total_seconds()\n",
    "\n",
    "# Considérer que si la différence de temps est supérieure à un certain seuil (par exemple, 30 minutes), il s'agit d'une nouvelle session\n",
    "session_threshold = 30 * 60  # 30 minutes en secondes\n",
    "df['new_session'] = (df['time_diff'] > session_threshold) | df['time_diff'].isna()\n",
    "\n",
    "# Assigner un identifiant unique pour chaque session\n",
    "df['session_id'] = df.groupby('uid')['new_session'].cumsum()\n",
    "\n",
    "# Ajouter la colonne 'date' pour avoir la date spécifique des sessions\n",
    "df['date'] = df['time'].dt.date\n",
    "\n",
    "# Définir l'heure de début et l'heure de fin pour chaque session\n",
    "session_times = df.groupby(['uid', 'date', 'session_id']).agg(\n",
    "    session_start=('time', 'min'),\n",
    "    session_end=('time', 'max')\n",
    ").reset_index()\n",
    "\n",
    "# Calculer la durée de chaque session en secondes\n",
    "session_times['session_duration_in_seconds'] = (session_times['session_end'] - session_times['session_start']).dt.total_seconds()\n",
    "\n",
    "# Afficher les résultats\n",
    "print(session_times)\n",
    "\n",
    "# Optionnel : Sauvegarder les résultats dans un nouveau fichier CSV\n",
    "session_times.to_csv('session_times_per_user_per_day.csv', index=False)\n"
   ]
  },
  {
   "cell_type": "code",
   "execution_count": 19,
   "metadata": {},
   "outputs": [
    {
     "name": "stdout",
     "output_type": "stream",
     "text": [
      "                              uid        date  session_id  \\\n",
      "0    03HAO5vU6BOlF3NSeYVTzyRaJ6W2  2024-05-18         1.0   \n",
      "1    03HAO5vU6BOlF3NSeYVTzyRaJ6W2  2024-05-24         2.0   \n",
      "2    11gwRhxyjDXP8bToBSnEbAXzfR62  2024-06-10         1.0   \n",
      "3    1kftiDxaQlT4N0NFXV4Ff70KgBF3  2024-06-04         1.0   \n",
      "4    2Dnk3xqJF6NF4ZJWcA7f2zrlnO13  2024-06-02         1.0   \n",
      "..                            ...         ...         ...   \n",
      "394  z5Vl3tUSRgalHfSho6JFNkpjxpn1  2024-06-07        74.0   \n",
      "395  z5Vl3tUSRgalHfSho6JFNkpjxpn1  2024-06-08        75.0   \n",
      "396  z5Vl3tUSRgalHfSho6JFNkpjxpn1  2024-06-09        76.0   \n",
      "397  zAUbebwMo3TY8MqBKBldpDeyIUb2  2024-05-19         1.0   \n",
      "398  zAUbebwMo3TY8MqBKBldpDeyIUb2  2024-05-28         2.0   \n",
      "\n",
      "              session_start             session_end  \\\n",
      "0   2024-05-18 12:56:02.777 2024-05-18 13:02:34.544   \n",
      "1   2024-05-24 11:11:29.231 2024-05-24 11:12:36.718   \n",
      "2   2024-06-10 12:34:04.644 2024-06-10 12:48:12.274   \n",
      "3   2024-06-04 06:21:15.012 2024-06-04 06:29:18.205   \n",
      "4   2024-06-02 18:10:36.048 2024-06-02 18:21:45.342   \n",
      "..                      ...                     ...   \n",
      "394 2024-06-07 18:41:24.171 2024-06-07 18:42:13.456   \n",
      "395 2024-06-08 08:14:59.834 2024-06-08 08:15:22.939   \n",
      "396 2024-06-09 10:46:18.549 2024-06-09 11:13:57.748   \n",
      "397 2024-05-19 08:14:49.609 2024-05-19 08:23:03.261   \n",
      "398 2024-05-28 03:10:30.157 2024-05-28 03:10:39.446   \n",
      "\n",
      "     session_duration_in_seconds  \\\n",
      "0                        391.767   \n",
      "1                         67.487   \n",
      "2                        847.630   \n",
      "3                        483.193   \n",
      "4                        669.294   \n",
      "..                           ...   \n",
      "394                       49.285   \n",
      "395                       23.105   \n",
      "396                     1659.199   \n",
      "397                      493.652   \n",
      "398                        9.289   \n",
      "\n",
      "                                         visited_pages  \n",
      "0    [userPanierPage, userPrestataireDetailPage, us...  \n",
      "1    [userDetailContactPage, userConversationPage, ...  \n",
      "2    [codePinPage, prestataireHomePage, prestataire...  \n",
      "3    [userConversationPage, userTransactionPage, us...  \n",
      "4    [userHomeScreenPage, userHomeScreenPage, userL...  \n",
      "..                                                 ...  \n",
      "394  [userListePrestatairePage, userHomeScreenPage,...  \n",
      "395                              [userTransactionPage]  \n",
      "396  [userPrestataireDetailPage, userListePrestatai...  \n",
      "397  [codePinPage, userHomeScreenPage, userHomeScre...  \n",
      "398    [userHomeScreenPage, codePinPage, userHomePage]  \n",
      "\n",
      "[399 rows x 7 columns]\n"
     ]
    }
   ],
   "source": [
    "import pandas as pd\n",
    "\n",
    "# Lire les fichiers CSV\n",
    "sessions_file_path = 'session_times_per_user_per_day.csv'\n",
    "pages_file_path = 'pageOpenedTime.csv'\n",
    "\n",
    "sessions = pd.read_csv(sessions_file_path)\n",
    "pages = pd.read_csv(pages_file_path)\n",
    "\n",
    "# Convertir le temps en datetime pour une manipulation plus facile\n",
    "sessions['session_start'] = pd.to_datetime(sessions['session_start'])\n",
    "sessions['session_end'] = pd.to_datetime(sessions['session_end'])\n",
    "pages['time'] = pd.to_datetime(pages['time'], unit='ms')\n",
    "pages_true = pages[pages['isIn'] == True]\n",
    "\n",
    "# Fonction pour associer les pages visitées aux sessions\n",
    "def map_pages_to_sessions(sessions, pages_true):\n",
    "    sessions_with_pages = []\n",
    "\n",
    "    for index, session in sessions.iterrows():\n",
    "        uid = session['uid']\n",
    "        session_start = session['session_start']\n",
    "        session_end = session['session_end']\n",
    "        \n",
    "        # Filtrer les pages visitées par cet utilisateur pendant cette session\n",
    "        visited_pages = pages_true[(pages_true['uid'] == uid) & \n",
    "                                   (pages_true['time'] >= session_start) & \n",
    "                                   (pages_true['time'] <= session_end)]\n",
    "        \n",
    "        # Ajouter les pages visitées à la session\n",
    "        session_info = session.to_dict()\n",
    "        session_info['visited_pages'] = visited_pages['page'].tolist()\n",
    "        \n",
    "        sessions_with_pages.append(session_info)\n",
    "    \n",
    "    return pd.DataFrame(sessions_with_pages)\n",
    "\n",
    "# Associer les pages visitées aux sessions\n",
    "sessions_with_pages = map_pages_to_sessions(sessions, pages_true)\n",
    "\n",
    "# Afficher les sessions avec les pages visitées\n",
    "print(sessions_with_pages)\n",
    "\n",
    "# Enregistrer les sessions avec les pages visitées dans un fichier CSV\n",
    "sessions_with_pages.to_csv('sessions_with_pages_true.csv', index=False)\n"
   ]
  },
  {
   "cell_type": "code",
   "execution_count": 1,
   "metadata": {},
   "outputs": [
    {
     "ename": "NameError",
     "evalue": "name 'pd' is not defined",
     "output_type": "error",
     "traceback": [
      "\u001b[1;31m---------------------------------------------------------------------------\u001b[0m",
      "\u001b[1;31mNameError\u001b[0m                                 Traceback (most recent call last)",
      "Cell \u001b[1;32mIn[1], line 1\u001b[0m\n\u001b[1;32m----> 1\u001b[0m df_appOpenTime[\u001b[38;5;124m'\u001b[39m\u001b[38;5;124mtime\u001b[39m\u001b[38;5;124m'\u001b[39m]\u001b[38;5;241m=\u001b[39m\u001b[43mpd\u001b[49m\u001b[38;5;241m.\u001b[39mto_datetime(df_appOpenTime[\u001b[38;5;124m'\u001b[39m\u001b[38;5;124mtime\u001b[39m\u001b[38;5;124m'\u001b[39m],unit\u001b[38;5;241m=\u001b[39m\u001b[38;5;124m'\u001b[39m\u001b[38;5;124mms\u001b[39m\u001b[38;5;124m'\u001b[39m)\n\u001b[0;32m      2\u001b[0m df\u001b[38;5;241m.\u001b[39mto_csv(\u001b[38;5;124m'\u001b[39m\u001b[38;5;124mappOpenedTimeTrue.csv\u001b[39m\u001b[38;5;124m'\u001b[39m)\n",
      "\u001b[1;31mNameError\u001b[0m: name 'pd' is not defined"
     ]
    }
   ],
   "source": [
    "df_appOpenTime['time']=pd.to_datetime(df_appOpenTime['time'],unit='ms')\n",
    "df.to_csv('appOpenedTimeTrue.csv')"
   ]
  },
  {
   "cell_type": "code",
   "execution_count": 3,
   "metadata": {},
   "outputs": [
    {
     "ename": "NameError",
     "evalue": "name 'df_appOpenTime' is not defined",
     "output_type": "error",
     "traceback": [
      "\u001b[1;31m---------------------------------------------------------------------------\u001b[0m",
      "\u001b[1;31mNameError\u001b[0m                                 Traceback (most recent call last)",
      "Cell \u001b[1;32mIn[3], line 3\u001b[0m\n\u001b[0;32m      1\u001b[0m \u001b[38;5;28;01mimport\u001b[39;00m \u001b[38;5;21;01mpandas\u001b[39;00m \u001b[38;5;28;01mas\u001b[39;00m \u001b[38;5;21;01mpd\u001b[39;00m\n\u001b[1;32m----> 3\u001b[0m df_appOpenTime[\u001b[38;5;124m'\u001b[39m\u001b[38;5;124mtime\u001b[39m\u001b[38;5;124m'\u001b[39m] \u001b[38;5;241m=\u001b[39m pd\u001b[38;5;241m.\u001b[39mto_datetime(\u001b[43mdf_appOpenTime\u001b[49m[\u001b[38;5;124m'\u001b[39m\u001b[38;5;124mtime\u001b[39m\u001b[38;5;124m'\u001b[39m], unit\u001b[38;5;241m=\u001b[39m\u001b[38;5;124m'\u001b[39m\u001b[38;5;124mms\u001b[39m\u001b[38;5;124m'\u001b[39m)\n\u001b[0;32m      4\u001b[0m df\u001b[38;5;241m.\u001b[39mto_csv(\u001b[38;5;124m'\u001b[39m\u001b[38;5;124mappOpenedTimeTrue.csv\u001b[39m\u001b[38;5;124m'\u001b[39m)\n",
      "\u001b[1;31mNameError\u001b[0m: name 'df_appOpenTime' is not defined"
     ]
    }
   ],
   "source": [
    "import pandas as pd\n",
    "\n",
    "df_appOpenTime['time'] = pd.to_datetime(df_appOpenTime['time'], unit='ms')\n",
    "df.to_csv('appOpenedTimeTrue.csv')\n",
    "\n"
   ]
  },
  {
   "cell_type": "code",
   "execution_count": 4,
   "metadata": {},
   "outputs": [
    {
     "ename": "NameError",
     "evalue": "name 'df_appOpenTime' is not defined",
     "output_type": "error",
     "traceback": [
      "\u001b[1;31m---------------------------------------------------------------------------\u001b[0m",
      "\u001b[1;31mNameError\u001b[0m                                 Traceback (most recent call last)",
      "Cell \u001b[1;32mIn[4], line 3\u001b[0m\n\u001b[0;32m      1\u001b[0m \u001b[38;5;28;01mimport\u001b[39;00m \u001b[38;5;21;01mpandas\u001b[39;00m \u001b[38;5;28;01mas\u001b[39;00m \u001b[38;5;21;01mpd\u001b[39;00m\n\u001b[1;32m----> 3\u001b[0m df_appOpenTime[\u001b[38;5;124m'\u001b[39m\u001b[38;5;124mtime\u001b[39m\u001b[38;5;124m'\u001b[39m] \u001b[38;5;241m=\u001b[39m pd\u001b[38;5;241m.\u001b[39mto_datetime(\u001b[43mdf_appOpenTime\u001b[49m[\u001b[38;5;124m'\u001b[39m\u001b[38;5;124mtime\u001b[39m\u001b[38;5;124m'\u001b[39m], unit\u001b[38;5;241m=\u001b[39m\u001b[38;5;124m'\u001b[39m\u001b[38;5;124mms\u001b[39m\u001b[38;5;124m'\u001b[39m)\n\u001b[0;32m      4\u001b[0m df\u001b[38;5;241m.\u001b[39mto_csv(\u001b[38;5;124m'\u001b[39m\u001b[38;5;124mappOpenedTimeTrue.csv\u001b[39m\u001b[38;5;124m'\u001b[39m)\n",
      "\u001b[1;31mNameError\u001b[0m: name 'df_appOpenTime' is not defined"
     ]
    }
   ],
   "source": [
    "import pandas as pd\n",
    "\n",
    "df_appOpenTime['time'] = pd.to_datetime(df_appOpenTime['time'], unit='ms')\n",
    "df.to_csv('appOpenedTimeTrue.csv')\n",
    "\n"
   ]
  },
  {
   "cell_type": "code",
   "execution_count": 5,
   "metadata": {},
   "outputs": [],
   "source": [
    "import pandas as pd\n",
    "\n",
    "# Assuming you are loading the DataFrame from a CSV file\n",
    "df_appOpenTime = pd.read_csv('appOpenedTime.csv')\n",
    "\n",
    "# Convert the 'time' column to datetime\n",
    "df_appOpenTime['time'] = pd.to_datetime(df_appOpenTime['time'], unit='ms')\n",
    "\n",
    "# Save the DataFrame to a CSV file\n",
    "df_appOpenTime.to_csv('appOpenedTimeTrue.csv', index=False)\n"
   ]
  },
  {
   "cell_type": "code",
   "execution_count": 6,
   "metadata": {},
   "outputs": [
    {
     "ename": "SyntaxError",
     "evalue": "invalid decimal literal (4091943264.py, line 1)",
     "output_type": "error",
     "traceback": [
      "\u001b[1;36m  Cell \u001b[1;32mIn[6], line 1\u001b[1;36m\u001b[0m\n\u001b[1;33m    1def separate_date_time(data):\u001b[0m\n\u001b[1;37m    ^\u001b[0m\n\u001b[1;31mSyntaxError\u001b[0m\u001b[1;31m:\u001b[0m invalid decimal literal\n"
     ]
    }
   ],
   "source": [
    "1def separate_date_time(data):\n",
    "    # Assuming 'data' is a string in the format \"YYYY-MM-DD HH:MM:SS\"\n",
    "    date, time = data.split(' ')\n",
    "    return date, time\n",
    "\n",
    "# Example usage\n",
    "data_string = \"2024-06-18 11:52:00\"\n",
    "date, time = separate_date_time(data_string)\n",
    "print(\"Date:\", date)\n",
    "print(\"Time:\", time)"
   ]
  },
  {
   "cell_type": "code",
   "execution_count": 7,
   "metadata": {},
   "outputs": [],
   "source": [
    "df_appOpenTime['Date'] = df_appOpenTime['time'].dt.date"
   ]
  },
  {
   "cell_type": "code",
   "execution_count": 8,
   "metadata": {},
   "outputs": [],
   "source": [
    "df_appOpenTime[['Date']].to_csv('dates.csv', index=False)"
   ]
  },
  {
   "cell_type": "code",
   "execution_count": 9,
   "metadata": {},
   "outputs": [],
   "source": [
    "import pandas as pd\n",
    "\n",
    "# Chargement des données depuis le fichier CSV\n",
    "df_appOpenTime = pd.read_csv('appOpenedTime.csv')\n",
    "\n",
    "# Conversion de la colonne 'time' en datetime\n",
    "df_appOpenTime['time'] = pd.to_datetime(df_appOpenTime['time'], unit='ms')\n",
    "\n",
    "# Séparation de la colonne datetime en date et heure\n",
    "df_appOpenTime['date'] = df_appOpenTime['time'].dt.date\n",
    "df_appOpenTime['heure'] = df_appOpenTime['time'].dt.time\n",
    "\n",
    "# Suppression de la colonne originale 'time' si nécessaire\n",
    "# del df_appOpenTime['time']\n",
    "\n",
    "# Sauvegarde du DataFrame dans un nouveau fichier CSV\n",
    "df_appOpenTime.to_csv('appOpenedTimeTrues.csv', index=False)\n"
   ]
  },
  {
   "cell_type": "code",
   "execution_count": null,
   "metadata": {},
   "outputs": [],
   "source": []
  }
 ],
 "metadata": {
  "kernelspec": {
   "display_name": "Python 3",
   "language": "python",
   "name": "python3"
  },
  "language_info": {
   "codemirror_mode": {
    "name": "ipython",
    "version": 3
   },
   "file_extension": ".py",
   "mimetype": "text/x-python",
   "name": "python",
   "nbconvert_exporter": "python",
   "pygments_lexer": "ipython3",
   "version": "3.12.3"
  }
 },
 "nbformat": 4,
 "nbformat_minor": 2
}
