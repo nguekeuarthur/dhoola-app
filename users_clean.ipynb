{
 "cells": [
  {
   "cell_type": "code",
   "execution_count": 1,
   "metadata": {},
   "outputs": [],
   "source": [
    "import pandas as pd\n",
    "\n",
    "# Charger les données depuis le fichier CSV\n",
    "users_df = pd.read_csv('users.csv')\n",
    "\n",
    "# Remplacer les valeurs NaN ou vides par des chaînes vides ou un autre indicateur\n",
    "users_df['town'] = users_df['town'].fillna('')  # ou un autre indicateur comme 'Inconnu'\n",
    "\n",
    "# Enregistrer le fichier nettoyé\n",
    "users_df.to_csv('users_clean.csv', index=False)\n"
   ]
  },
  {
   "cell_type": "code",
   "execution_count": 2,
   "metadata": {},
   "outputs": [],
   "source": [
    "import pandas as pd\n",
    "\n",
    "# Charger les données depuis le fichier CSV fourni\n",
    "users_df = pd.read_csv('users.csv')\n",
    "\n",
    "# Convertir toutes les valeurs de la colonne 'town' en chaînes de caractères et gérer les valeurs NaN\n",
    "users_df['town'] = users_df['town'].fillna('').astype(str)\n",
    "\n",
    "# Supprimer les lignes où 'town' est vide si nécessaire\n",
    "# users_df = users_df[users_df['town'] != '']\n",
    "\n",
    "# Assurez-vous que toutes les valeurs de chaîne sont cohérentes et nettoyées\n",
    "users_df['town'] = users_df['town'].str.strip().str.lower()\n",
    "users_df['town'] = users_df['town'].replace({\n",
    "    'yaounde': 'yaoundé',\n",
    "    'douala, yaoundé et edea': 'yaoundé',\n",
    "    'mélong, moungo-littoral': 'mélong',\n",
    "    # Ajouter d'autres mappings si nécessaire\n",
    "})\n",
    "users_df['town'] = users_df['town'].str.title()\n",
    "\n",
    "# Enregistrer les données nettoyées dans un nouveau fichier CSV\n",
    "users_df.to_csv('users_cleaned.csv', index=False)\n"
   ]
  }
 ],
 "metadata": {
  "kernelspec": {
   "display_name": "Python 3",
   "language": "python",
   "name": "python3"
  },
  "language_info": {
   "codemirror_mode": {
    "name": "ipython",
    "version": 3
   },
   "file_extension": ".py",
   "mimetype": "text/x-python",
   "name": "python",
   "nbconvert_exporter": "python",
   "pygments_lexer": "ipython3",
   "version": "3.12.3"
  }
 },
 "nbformat": 4,
 "nbformat_minor": 2
}
